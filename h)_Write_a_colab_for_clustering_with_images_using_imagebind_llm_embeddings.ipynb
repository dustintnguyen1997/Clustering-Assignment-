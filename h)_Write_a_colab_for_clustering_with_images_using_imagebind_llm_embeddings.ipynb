{
  "nbformat": 4,
  "nbformat_minor": 0,
  "metadata": {
    "colab": {
      "provenance": []
    },
    "kernelspec": {
      "name": "python3",
      "display_name": "Python 3"
    },
    "language_info": {
      "name": "python"
    }
  },
  "cells": [
    {
      "cell_type": "code",
      "execution_count": null,
      "metadata": {
        "id": "D1X5QBx0KX_7"
      },
      "outputs": [],
      "source": [
        "import numpy\n",
        "import math\n",
        "\n",
        "book_A = numpy.array([2, 3])\n",
        "book_B = numpy.array([4, 1])\n",
        "\n",
        "book_A_B = book_A - book_B\n",
        "\n",
        "# ---- Easy Solution ----\n",
        "euclidean_dist_easy = numpy.linalg.norm(book_A_B)\n",
        "\n",
        "# ---- Manuel Solution ----\n",
        "# Sum together all distances squared (pythagoras)\n",
        "sum_of_squared_distances = numpy.dot(book_A_B, book_A_B)\n",
        "# Find distance\n",
        "euclidean_dist_manuel = math.sqrt(sum_of_squared_distances)"
      ]
    },
    {
      "cell_type": "code",
      "source": [
        "from scipy import spatial\n",
        "import math\n",
        "\n",
        "# ---- Easy Solution ----\n",
        "cosine_dist_easy = spatial.distance.cosine(book_A, book_B)\n",
        "\n",
        "# ---- Manuel Solution ----\n",
        "# Dot product between vectors\n",
        "product_AB = numpy.dot(book_A, book_B)\n",
        "# Length of vectors\n",
        "book_A_length = numpy.linalg.norm(book_A,2)\n",
        "book_B_length = numpy.linalg.norm(book_B,2)\n",
        "# Similarity measures by cosine distance\n",
        "cosine_dist_manuel = 1 - (product_AB / (book_A_length * book_B_length))"
      ],
      "metadata": {
        "id": "JGXjCc5KKepk"
      },
      "execution_count": null,
      "outputs": []
    },
    {
      "cell_type": "code",
      "source": [
        "# -------------- Define Measurements --------------\n",
        "# Vector = [Life-Jouney, Fiction]\n",
        "vec_a = [2, 3]\n",
        "vec_b = [3, 1]\n",
        "vec_c = [7, 5]\n",
        "vec_d = [8, 7]\n",
        "vec_e = [3, 8]\n",
        "vec_f = [4, 9]\n",
        "vec_g = [9, 2]\n",
        "vec_h = [10, 1.8]\n",
        "data_points = [vec_a, vec_b, vec_c, vec_d, vec_e, vec_f, vec_g, vec_h]"
      ],
      "metadata": {
        "id": "tqKqmlfNKjm_"
      },
      "execution_count": null,
      "outputs": []
    },
    {
      "cell_type": "code",
      "source": [
        "import numpy as np\n",
        "\n",
        "# Example range for random clusters\n",
        "n_clusters = 3\n",
        "n_points = 100\n",
        "ranges = [(0, 10), (20, 30), (40, 50)]\n",
        "\n",
        "# Initialize clusters\n",
        "clusters = []\n",
        "random_cluster_points = np.random.rand(n_clusters, n_points)\n",
        "\n",
        "for index, cluster_point in enumerate(random_cluster_points):\n",
        "    range_diff = ranges[index][1] - ranges[index][0]\n",
        "    random_cluster_points[index] = cluster_point * range_diff + ranges[index][0]\n",
        "    clusters.append(random_cluster_points[index])\n",
        "\n",
        "print(f\"Clusters: {clusters}\")"
      ],
      "metadata": {
        "colab": {
          "base_uri": "https://localhost:8080/"
        },
        "id": "J71MkOgoKl3a",
        "outputId": "16fd50c0-d9ea-48bf-a2de-ab1c77d2c1c6"
      },
      "execution_count": null,
      "outputs": [
        {
          "output_type": "stream",
          "name": "stdout",
          "text": [
            "Clusters: [array([6.6560223 , 4.65360244, 4.28703151, 0.8353308 , 4.46800231,\n",
            "       1.39266863, 9.0705794 , 7.17069417, 8.05259752, 5.21150939,\n",
            "       3.14909587, 5.33980401, 9.59043033, 3.57413988, 0.26340183,\n",
            "       8.38913353, 4.18869467, 5.70067549, 3.70588465, 5.11166672,\n",
            "       0.53244317, 8.45917848, 3.21319122, 3.8649824 , 5.87512554,\n",
            "       2.65812881, 6.82995825, 3.25604085, 1.26369445, 1.57109528,\n",
            "       7.14163834, 8.26477413, 2.66031964, 3.36971635, 9.02140901,\n",
            "       7.03454905, 6.96378276, 8.31413049, 4.37127741, 6.18789804,\n",
            "       7.02246669, 3.62090287, 6.65545763, 2.33288953, 3.27489183,\n",
            "       8.22009053, 0.05508494, 5.29455961, 9.35786961, 5.38594341,\n",
            "       5.90538021, 5.10409099, 4.37479299, 2.50512879, 9.71739561,\n",
            "       9.59237708, 0.34069413, 8.73984298, 8.51882482, 8.11378851,\n",
            "       3.33956265, 7.20806041, 0.91741832, 7.70680666, 3.68227341,\n",
            "       7.57152117, 1.37534929, 5.26994141, 9.03703722, 0.4930392 ,\n",
            "       5.17908407, 7.83792883, 5.58813265, 3.19305967, 3.02956007,\n",
            "       7.25713792, 8.15055994, 1.20732078, 6.6270993 , 0.57814449,\n",
            "       0.08443275, 8.008312  , 6.3449083 , 8.20935622, 9.45827554,\n",
            "       8.05537994, 3.54132186, 4.34833387, 7.76661185, 5.99532057,\n",
            "       0.98735834, 9.99206997, 9.43602754, 7.45553938, 7.66771873,\n",
            "       4.88602361, 9.94423694, 7.0982869 , 6.04257523, 7.55146232]), array([23.85697631, 28.52069692, 27.9220441 , 23.1152303 , 22.24502107,\n",
            "       21.09806486, 20.91923118, 22.6071803 , 28.16034053, 26.43537227,\n",
            "       25.99338239, 28.20573549, 27.10602259, 27.48059515, 21.1259619 ,\n",
            "       21.20043515, 29.9597785 , 22.24190222, 25.01852913, 22.22972497,\n",
            "       21.45140797, 26.85447357, 23.40620793, 29.22055809, 29.6941404 ,\n",
            "       28.5183983 , 25.05798384, 24.71365702, 29.98566369, 25.66462788,\n",
            "       25.19590309, 24.96689066, 25.73008854, 24.22012404, 27.39596511,\n",
            "       24.78804784, 26.17623957, 21.60360072, 23.26048375, 27.78497506,\n",
            "       20.22106573, 29.82852162, 21.90860212, 23.89106066, 29.12944015,\n",
            "       27.11068496, 22.14353907, 22.43249007, 21.76780294, 23.99496568,\n",
            "       27.22317564, 20.84923023, 20.59382652, 22.41147281, 27.78383287,\n",
            "       29.273544  , 20.51779446, 25.50091303, 26.2813597 , 25.7647071 ,\n",
            "       25.23146284, 23.95877606, 22.62101933, 27.18571229, 26.70823095,\n",
            "       26.65089797, 29.72975103, 29.89468685, 28.01307154, 28.38103973,\n",
            "       24.90121053, 24.20506399, 28.71843816, 21.40322275, 28.49182541,\n",
            "       20.58558674, 26.06993398, 29.66832164, 20.37085595, 21.8644823 ,\n",
            "       26.18977373, 29.98085812, 20.13816307, 20.48227928, 20.93258437,\n",
            "       25.84379527, 29.06850001, 25.34804117, 24.52072276, 28.49058931,\n",
            "       22.05615182, 22.79737229, 22.4676795 , 20.37240033, 24.74409496,\n",
            "       27.43929493, 20.25327344, 27.99681487, 20.22447545, 22.93528098]), array([41.4906682 , 43.29382583, 47.0562719 , 42.68841838, 47.13504897,\n",
            "       49.07711341, 47.06524124, 40.88409268, 40.16600188, 49.15748395,\n",
            "       42.44186587, 44.4215905 , 46.95258725, 49.44520255, 48.03356046,\n",
            "       40.77362207, 49.77744599, 45.19790619, 47.14226599, 48.96240976,\n",
            "       48.18941183, 45.12556419, 45.52533347, 45.35864589, 49.53839875,\n",
            "       48.52064248, 48.41957886, 41.72333235, 41.96414617, 44.69276489,\n",
            "       40.87332283, 42.14481879, 42.79224828, 45.11936418, 47.56969315,\n",
            "       49.29543355, 41.23443877, 44.08692439, 48.71850378, 43.93669275,\n",
            "       44.08201686, 47.35583699, 49.4360712 , 44.47460195, 48.19768532,\n",
            "       42.32791805, 42.47643551, 42.1052996 , 48.35830375, 44.72768061,\n",
            "       42.39150381, 44.81990034, 49.23048488, 45.60901746, 46.60987533,\n",
            "       48.29700621, 43.53485268, 48.84372945, 47.26461084, 43.21891266,\n",
            "       42.10027979, 46.39327391, 44.51433668, 45.67153085, 40.19889512,\n",
            "       48.34167669, 48.09454746, 41.45788103, 42.56949534, 42.4350431 ,\n",
            "       42.61694255, 41.77225496, 49.4130709 , 44.14644802, 47.63677745,\n",
            "       49.30718799, 45.41441857, 46.71314586, 40.9615203 , 42.97134331,\n",
            "       47.70539757, 46.40688572, 45.93286801, 40.18025537, 48.52760713,\n",
            "       45.44788405, 44.42438828, 48.33706588, 46.62433662, 49.07885731,\n",
            "       45.10031155, 48.98579528, 49.26100155, 47.55003729, 45.17339486,\n",
            "       47.16987084, 41.8346006 , 48.44920732, 43.16718369, 43.87478656])]\n"
          ]
        }
      ]
    },
    {
      "cell_type": "code",
      "source": [
        "import numpy as np\n",
        "\n",
        "# Define Euclidean distance function\n",
        "def euclidean_distance(point1, point2):\n",
        "    return np.linalg.norm(point1 - point2)\n",
        "\n",
        "# Assign to dist_func\n",
        "dist_func = euclidean_distance\n",
        "\n",
        "# Example clusters and data points\n",
        "clusters = [np.array([1, 2]), np.array([4, 5]), np.array([7, 8])]\n",
        "data_points = [np.array([2, 3]), np.array([5, 6]), np.array([8, 9])]\n",
        "\n",
        "for data_point in data_points:\n",
        "    # Calculate distance to each cluster\n",
        "    distance_to_clusters = [dist_func(cluster, data_point) for cluster in clusters]\n",
        "    # Get index of the closest cluster\n",
        "    closest_cluster_index = distance_to_clusters.index(min(distance_to_clusters))\n",
        "    print(f\"Data point {data_point} is closest to cluster {clusters[closest_cluster_index]}\")"
      ],
      "metadata": {
        "colab": {
          "base_uri": "https://localhost:8080/"
        },
        "id": "XCW_0J7tKowo",
        "outputId": "d41a892c-178f-43c5-f889-b6abe18bc63e"
      },
      "execution_count": null,
      "outputs": [
        {
          "output_type": "stream",
          "name": "stdout",
          "text": [
            "Data point [2 3] is closest to cluster [1 2]\n",
            "Data point [5 6] is closest to cluster [4 5]\n",
            "Data point [8 9] is closest to cluster [7 8]\n"
          ]
        }
      ]
    },
    {
      "cell_type": "code",
      "source": [
        "import numpy as np\n",
        "\n",
        "# Example: Data points and cluster assignments\n",
        "data_points = [np.array([1, 2]), np.array([2, 3]), np.array([6, 7])]\n",
        "cluster_assignments = [0, 0, 1]  # Example cluster assignments\n",
        "n_clusters = 2\n",
        "\n",
        "# Initialize clusters_data_points\n",
        "clusters_data_points = [[] for _ in range(n_clusters)]\n",
        "\n",
        "# Assign data points to clusters\n",
        "for i, point in enumerate(data_points):\n",
        "    clusters_data_points[cluster_assignments[i]].append(point)\n",
        "\n",
        "# Calculate means for each cluster\n",
        "cluster_means = [np.mean(cluster, axis=0) if cluster else None for cluster in clusters_data_points]\n",
        "\n",
        "print(f\"Clusters Data Points: {clusters_data_points}\")\n",
        "print(f\"Cluster Means: {cluster_means}\")"
      ],
      "metadata": {
        "colab": {
          "base_uri": "https://localhost:8080/"
        },
        "id": "51NX0jMMKsTx",
        "outputId": "4ddd7b68-1235-4b30-ffc9-adf730bf16ce"
      },
      "execution_count": null,
      "outputs": [
        {
          "output_type": "stream",
          "name": "stdout",
          "text": [
            "Clusters Data Points: [[array([1, 2]), array([2, 3])], [array([6, 7])]]\n",
            "Cluster Means: [array([1.5, 2.5]), array([6., 7.])]\n"
          ]
        }
      ]
    },
    {
      "cell_type": "code",
      "source": [
        "import numpy as np\n",
        "\n",
        "# Define the similarity function\n",
        "def euclidean_distance(point1, point2):\n",
        "    return np.linalg.norm(np.array(point1) - np.array(point2))\n",
        "\n",
        "# Define the function to split data points\n",
        "def split_data_points_between_clusters(clusters, data_points, similarity_func):\n",
        "    n_clusters = len(clusters)\n",
        "    clusters_data_points = [[] for _ in range(n_clusters)]\n",
        "\n",
        "    for point in data_points:\n",
        "        distances = [similarity_func(cluster, point) for cluster in clusters]\n",
        "        closest_cluster = np.argmin(distances)\n",
        "        clusters_data_points[closest_cluster].append(point)\n",
        "\n",
        "    return clusters_data_points\n",
        "\n",
        "# Define the function to calculate cluster means\n",
        "def calc_mean_clusters(clusters_data_points):\n",
        "    return [np.mean(cluster, axis=0) if cluster else None for cluster in clusters_data_points]\n",
        "\n",
        "# Example workflow\n",
        "clusters = [np.array([1, 1]), np.array([5, 5])]  # Initial clusters\n",
        "data_points = [np.array([1, 2]), np.array([3, 4]), np.array([6, 7])]  # Data points\n",
        "\n",
        "while True:\n",
        "    # Split data points between clusters\n",
        "    clusters_data_points = split_data_points_between_clusters(clusters, data_points, euclidean_distance)\n",
        "    # Calculate mean of each vector set as the cluster positions\n",
        "    new_clusters = calc_mean_clusters(clusters_data_points)\n",
        "    print(f\"Updated Clusters: {new_clusters}\")\n",
        "    break"
      ],
      "metadata": {
        "colab": {
          "base_uri": "https://localhost:8080/"
        },
        "id": "V8NmW8gTKsro",
        "outputId": "4cdc1d37-58bb-4168-a86f-1ff99ae260a8"
      },
      "execution_count": null,
      "outputs": [
        {
          "output_type": "stream",
          "name": "stdout",
          "text": [
            "Updated Clusters: [array([1., 2.]), array([4.5, 5.5])]\n"
          ]
        }
      ]
    },
    {
      "cell_type": "code",
      "source": [
        "from sklearn import cluster\n",
        "\n",
        "# ---------- K-Mean clustering simplified ----------\n",
        "clusters = cluster.KMeans(n_clusters=n_clusters).fit(data_points).cluster_centers_\n",
        "print(clusters)"
      ],
      "metadata": {
        "colab": {
          "base_uri": "https://localhost:8080/"
        },
        "id": "Gm-WoHgZKw0j",
        "outputId": "9be025a8-83ae-43ce-e8a0-d0b20e7ebc04"
      },
      "execution_count": null,
      "outputs": [
        {
          "output_type": "stream",
          "name": "stdout",
          "text": [
            "[[2. 3.]\n",
            " [6. 7.]]\n"
          ]
        }
      ]
    }
  ]
}